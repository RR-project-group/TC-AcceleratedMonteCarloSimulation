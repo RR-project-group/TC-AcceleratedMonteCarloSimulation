{
  "cells": [
    {
      "cell_type": "markdown",
      "metadata": {},
      "source": [
        "# Install Dependences"
      ]
    },
    {
      "cell_type": "code",
      "execution_count": null,
      "metadata": {
        "colab": {
          "base_uri": "https://localhost:8080/"
        },
        "id": "ZKRNOuh-5oyZ",
        "outputId": "8261c5ae-696e-4a1f-cb8c-7d108b37ec3d"
      },
      "outputs": [
        {
          "name": "stdout",
          "output_type": "stream",
          "text": [
            "Defaulting to user installation because normal site-packages is not writeable\n",
            "Collecting tensorflow==2.18.0\n",
            "  Downloading tensorflow-2.18.0-cp312-cp312-macosx_12_0_arm64.whl.metadata (4.0 kB)\n",
            "Collecting absl-py>=1.0.0 (from tensorflow==2.18.0)\n",
            "  Downloading absl_py-2.2.2-py3-none-any.whl.metadata (2.6 kB)\n",
            "Collecting astunparse>=1.6.0 (from tensorflow==2.18.0)\n",
            "  Downloading astunparse-1.6.3-py2.py3-none-any.whl.metadata (4.4 kB)\n",
            "Collecting flatbuffers>=24.3.25 (from tensorflow==2.18.0)\n",
            "  Downloading flatbuffers-25.2.10-py2.py3-none-any.whl.metadata (875 bytes)\n",
            "Collecting gast!=0.5.0,!=0.5.1,!=0.5.2,>=0.2.1 (from tensorflow==2.18.0)\n",
            "  Downloading gast-0.6.0-py3-none-any.whl.metadata (1.3 kB)\n",
            "Collecting google-pasta>=0.1.1 (from tensorflow==2.18.0)\n",
            "  Downloading google_pasta-0.2.0-py3-none-any.whl.metadata (814 bytes)\n",
            "Collecting libclang>=13.0.0 (from tensorflow==2.18.0)\n",
            "  Downloading libclang-18.1.1-1-py2.py3-none-macosx_11_0_arm64.whl.metadata (5.2 kB)\n",
            "Collecting opt-einsum>=2.3.2 (from tensorflow==2.18.0)\n",
            "  Downloading opt_einsum-3.4.0-py3-none-any.whl.metadata (6.3 kB)\n",
            "Requirement already satisfied: packaging in /Users/zhangdanfeng/anaconda3/lib/python3.12/site-packages (from tensorflow==2.18.0) (23.2)\n",
            "Requirement already satisfied: protobuf!=4.21.0,!=4.21.1,!=4.21.2,!=4.21.3,!=4.21.4,!=4.21.5,<6.0.0dev,>=3.20.3 in /Users/zhangdanfeng/anaconda3/lib/python3.12/site-packages (from tensorflow==2.18.0) (3.20.3)\n",
            "Requirement already satisfied: requests<3,>=2.21.0 in /Users/zhangdanfeng/anaconda3/lib/python3.12/site-packages (from tensorflow==2.18.0) (2.32.2)\n",
            "Requirement already satisfied: setuptools in /Users/zhangdanfeng/.local/lib/python3.12/site-packages (from tensorflow==2.18.0) (75.8.0)\n",
            "Requirement already satisfied: six>=1.12.0 in /Users/zhangdanfeng/anaconda3/lib/python3.12/site-packages (from tensorflow==2.18.0) (1.16.0)\n",
            "Collecting termcolor>=1.1.0 (from tensorflow==2.18.0)\n",
            "  Downloading termcolor-3.1.0-py3-none-any.whl.metadata (6.4 kB)\n",
            "Requirement already satisfied: typing-extensions>=3.6.6 in /Users/zhangdanfeng/anaconda3/lib/python3.12/site-packages (from tensorflow==2.18.0) (4.11.0)\n",
            "Requirement already satisfied: wrapt>=1.11.0 in /Users/zhangdanfeng/anaconda3/lib/python3.12/site-packages (from tensorflow==2.18.0) (1.14.1)\n",
            "Collecting grpcio<2.0,>=1.24.3 (from tensorflow==2.18.0)\n",
            "  Downloading grpcio-1.71.0-cp312-cp312-macosx_10_14_universal2.whl.metadata (3.8 kB)\n",
            "Collecting tensorboard<2.19,>=2.18 (from tensorflow==2.18.0)\n",
            "  Downloading tensorboard-2.18.0-py3-none-any.whl.metadata (1.6 kB)\n",
            "Collecting keras>=3.5.0 (from tensorflow==2.18.0)\n",
            "  Downloading keras-3.10.0-py3-none-any.whl.metadata (6.0 kB)\n",
            "Requirement already satisfied: numpy<2.1.0,>=1.26.0 in /Users/zhangdanfeng/anaconda3/lib/python3.12/site-packages (from tensorflow==2.18.0) (1.26.4)\n",
            "Requirement already satisfied: h5py>=3.11.0 in /Users/zhangdanfeng/anaconda3/lib/python3.12/site-packages (from tensorflow==2.18.0) (3.11.0)\n",
            "Collecting ml-dtypes<0.5.0,>=0.4.0 (from tensorflow==2.18.0)\n",
            "  Downloading ml_dtypes-0.4.1-cp312-cp312-macosx_10_9_universal2.whl.metadata (20 kB)\n",
            "Requirement already satisfied: charset-normalizer<4,>=2 in /Users/zhangdanfeng/anaconda3/lib/python3.12/site-packages (from requests<3,>=2.21.0->tensorflow==2.18.0) (2.0.4)\n",
            "Requirement already satisfied: idna<4,>=2.5 in /Users/zhangdanfeng/anaconda3/lib/python3.12/site-packages (from requests<3,>=2.21.0->tensorflow==2.18.0) (3.7)\n",
            "Requirement already satisfied: urllib3<3,>=1.21.1 in /Users/zhangdanfeng/anaconda3/lib/python3.12/site-packages (from requests<3,>=2.21.0->tensorflow==2.18.0) (2.2.2)\n",
            "Requirement already satisfied: certifi>=2017.4.17 in /Users/zhangdanfeng/anaconda3/lib/python3.12/site-packages (from requests<3,>=2.21.0->tensorflow==2.18.0) (2024.6.2)\n",
            "Requirement already satisfied: markdown>=2.6.8 in /Users/zhangdanfeng/anaconda3/lib/python3.12/site-packages (from tensorboard<2.19,>=2.18->tensorflow==2.18.0) (3.4.1)\n",
            "Collecting tensorboard-data-server<0.8.0,>=0.7.0 (from tensorboard<2.19,>=2.18->tensorflow==2.18.0)\n",
            "  Downloading tensorboard_data_server-0.7.2-py3-none-any.whl.metadata (1.1 kB)\n",
            "Requirement already satisfied: werkzeug>=1.0.1 in /Users/zhangdanfeng/anaconda3/lib/python3.12/site-packages (from tensorboard<2.19,>=2.18->tensorflow==2.18.0) (3.0.3)\n",
            "Requirement already satisfied: wheel<1.0,>=0.23.0 in /Users/zhangdanfeng/.local/lib/python3.12/site-packages (from astunparse>=1.6.0->tensorflow==2.18.0) (0.45.1)\n",
            "Requirement already satisfied: rich in /Users/zhangdanfeng/anaconda3/lib/python3.12/site-packages (from keras>=3.5.0->tensorflow==2.18.0) (13.3.5)\n",
            "Collecting namex (from keras>=3.5.0->tensorflow==2.18.0)\n",
            "  Downloading namex-0.0.9-py3-none-any.whl.metadata (322 bytes)\n",
            "Collecting optree (from keras>=3.5.0->tensorflow==2.18.0)\n",
            "  Downloading optree-0.15.0-cp312-cp312-macosx_11_0_arm64.whl.metadata (48 kB)\n",
            "Requirement already satisfied: MarkupSafe>=2.1.1 in /Users/zhangdanfeng/anaconda3/lib/python3.12/site-packages (from werkzeug>=1.0.1->tensorboard<2.19,>=2.18->tensorflow==2.18.0) (2.1.3)\n",
            "Requirement already satisfied: markdown-it-py<3.0.0,>=2.2.0 in /Users/zhangdanfeng/anaconda3/lib/python3.12/site-packages (from rich->keras>=3.5.0->tensorflow==2.18.0) (2.2.0)\n",
            "Collecting pygments<3.0.0,>=2.13.0 (from rich->keras>=3.5.0->tensorflow==2.18.0)\n",
            "  Downloading pygments-2.19.1-py3-none-any.whl.metadata (2.5 kB)\n",
            "Requirement already satisfied: mdurl~=0.1 in /Users/zhangdanfeng/anaconda3/lib/python3.12/site-packages (from markdown-it-py<3.0.0,>=2.2.0->rich->keras>=3.5.0->tensorflow==2.18.0) (0.1.0)\n",
            "Downloading tensorflow-2.18.0-cp312-cp312-macosx_12_0_arm64.whl (239.6 MB)\n",
            "\u001b[2K   \u001b[91m━━━━━━━━━━━━\u001b[0m\u001b[91m╸\u001b[0m\u001b[90m━━━━━━━━━━━━━━━━━━━━━━━━━━━\u001b[0m \u001b[32m77.6/239.6 MB\u001b[0m \u001b[31m7.6 MB/s\u001b[0m eta \u001b[36m0:00:22\u001b[0m^C\n",
            "\u001b[31mERROR: Operation cancelled by user\u001b[0m\u001b[31m\n",
            "\u001b[0mDefaulting to user installation because normal site-packages is not writeable\n",
            "Looking in links: https://storage.googleapis.com/libtpu-tf-releases/index.html\n",
            "\u001b[31mERROR: Could not find a version that satisfies the requirement tensorflow-tpu==2.18.0 (from versions: 0.0.1rc0)\u001b[0m\u001b[31m\n",
            "\u001b[0m\u001b[31mERROR: No matching distribution found for tensorflow-tpu==2.18.0\u001b[0m\u001b[31m\n",
            "\u001b[0m"
          ]
        }
      ],
      "source": [
        "!pip install tensorflow==2.18.0\n",
        "!pip install tensorflow-tpu==2.18.0 --find-links=https://storage.googleapis.com/libtpu-tf-releases/index.html\n",
        "!git clone https://github.com/RR-project-group/TC-AcceleratedMonteCarloSimulation.git"
      ]
    },
    {
      "cell_type": "markdown",
      "metadata": {},
      "source": [
        "# Import library"
      ]
    },
    {
      "cell_type": "code",
      "execution_count": null,
      "metadata": {
        "colab": {
          "base_uri": "https://localhost:8080/",
          "height": 525
        },
        "id": "3rcY4P8P6scb",
        "outputId": "42d4eb14-7628-4515-e042-2146250bdb1b"
      },
      "outputs": [
        {
          "name": "stdout",
          "output_type": "stream",
          "text": [
            "Unexpected exception formatting exception. Falling back to standard exception\n"
          ]
        },
        {
          "name": "stderr",
          "output_type": "stream",
          "text": [
            "Traceback (most recent call last):\n",
            "  File \"/Users/zhangdanfeng/anaconda3/lib/python3.12/site-packages/IPython/core/interactiveshell.py\", line 3577, in run_code\n",
            "    exec(code_obj, self.user_global_ns, self.user_ns)\n",
            "  File \"/var/folders/p5/7lvp73g10bv9_6jcqzvcs6km0000gn/T/ipykernel_9395/4106891004.py\", line 1, in <module>\n",
            "    import tensorflow as tf\n",
            "ModuleNotFoundError: No module named 'tensorflow'\n",
            "\n",
            "During handling of the above exception, another exception occurred:\n",
            "\n",
            "Traceback (most recent call last):\n",
            "  File \"/Users/zhangdanfeng/anaconda3/lib/python3.12/site-packages/IPython/core/interactiveshell.py\", line 2168, in showtraceback\n",
            "    stb = self.InteractiveTB.structured_traceback(\n",
            "          ^^^^^^^^^^^^^^^^^^^^^^^^^^^^^^^^^^^^^^^^\n",
            "  File \"/Users/zhangdanfeng/anaconda3/lib/python3.12/site-packages/IPython/core/ultratb.py\", line 1454, in structured_traceback\n",
            "    return FormattedTB.structured_traceback(\n",
            "           ^^^^^^^^^^^^^^^^^^^^^^^^^^^^^^^^^\n",
            "  File \"/Users/zhangdanfeng/anaconda3/lib/python3.12/site-packages/IPython/core/ultratb.py\", line 1345, in structured_traceback\n",
            "    return VerboseTB.structured_traceback(\n",
            "           ^^^^^^^^^^^^^^^^^^^^^^^^^^^^^^^\n",
            "  File \"/Users/zhangdanfeng/anaconda3/lib/python3.12/site-packages/IPython/core/ultratb.py\", line 1192, in structured_traceback\n",
            "    formatted_exception = self.format_exception_as_a_whole(etype, evalue, etb, number_of_lines_of_context,\n",
            "                          ^^^^^^^^^^^^^^^^^^^^^^^^^^^^^^^^^^^^^^^^^^^^^^^^^^^^^^^^^^^^^^^^^^^^^^^^^^^^^^^^\n",
            "  File \"/Users/zhangdanfeng/anaconda3/lib/python3.12/site-packages/IPython/core/ultratb.py\", line 1082, in format_exception_as_a_whole\n",
            "    self.get_records(etb, number_of_lines_of_context, tb_offset) if etb else []\n",
            "    ^^^^^^^^^^^^^^^^^^^^^^^^^^^^^^^^^^^^^^^^^^^^^^^^^^^^^^^^^^^^\n",
            "  File \"/Users/zhangdanfeng/anaconda3/lib/python3.12/site-packages/IPython/core/ultratb.py\", line 1134, in get_records\n",
            "    style = stack_data.style_with_executing_node(style, self._tb_highlight)\n",
            "            ^^^^^^^^^^^^^^^^^^^^^^^^^^^^^^^^^^^^^^^^^^^^^^^^^^^^^^^^^^^^^^^\n",
            "  File \"/Users/zhangdanfeng/anaconda3/lib/python3.12/site-packages/stack_data/core.py\", line 424, in style_with_executing_node\n",
            "    class NewStyle(style):\n",
            "  File \"/Users/zhangdanfeng/.local/lib/python3.12/site-packages/pygments/style.py\", line 91, in __new__\n",
            "    ndef[4] = colorformat(styledef[3:])\n",
            "              ^^^^^^^^^^^^^^^^^^^^^^^^^\n",
            "  File \"/Users/zhangdanfeng/.local/lib/python3.12/site-packages/pygments/style.py\", line 58, in colorformat\n",
            "    assert False, \"wrong color format %r\" % text\n",
            "           ^^^^^\n",
            "AssertionError: wrong color format 'ansiyellow'\n"
          ]
        }
      ],
      "source": [
        "import tensorflow as tf\n",
        "import numpy as np\n",
        "import time\n",
        "import matplotlib.pyplot as plt\n",
        "import os\n",
        "os.chdir('TC-AcceleratedMonteCarloSimulation')\n",
        "import lmm\n",
        "import bs"
      ]
    },
    {
      "cell_type": "markdown",
      "metadata": {},
      "source": [
        "# Detect ColabTPU"
      ]
    },
    {
      "cell_type": "markdown",
      "metadata": {},
      "source": [
        "\n",
        "# ===== Detect TPU or fallback to CPU/GPU =====\n",
        "try:\n",
        "    resolver = tf.distribute.cluster_resolver.TPUClusterResolver(tpu='local')\n",
        "    tf.config.experimental_connect_to_cluster(resolver)\n",
        "    tf.tpu.experimental.initialize_tpu_system(resolver)\n",
        "    tpu_strategy = tf.distribute.TPUStrategy(resolver)\n",
        "    print(\"✅ TPU Detected.\")\n",
        "    tpu_available = True\n",
        "except:\n",
        "    tpu_strategy = tf.distribute.get_strategy()\n",
        "    print(\"⚠️ TPU Not Found, running on CPU/GPU.\")\n",
        "    tpu_available = False"
      ]
    },
    {
      "cell_type": "markdown",
      "metadata": {},
      "source": [
        "# BS simulation"
      ]
    },
    {
      "cell_type": "code",
      "execution_count": null,
      "metadata": {},
      "outputs": [],
      "source": [
        "\n",
        "# ===== Parameter Configuration =====\n",
        "n_steps_list = [25, 50, 100]\n",
        "\n",
        "# ===== Run Experiment in Specific Strategy Context =====\n",
        "def run_experiment(dtype, n_steps, label):\n",
        "        # tf.keras.backend.clear_session()\n",
        "        start = time.time()\n",
        "        price = run_bs_simulation(n_paths, n_steps, dtype=dtype, seed=seed)\n",
        "        end = time.time()\n",
        "        return {\n",
        "            \"label\": label,\n",
        "            \"dtype\": str(dtype.name),\n",
        "            \"n_steps\": n_steps,\n",
        "            \"price\": float(price.numpy()),\n",
        "            \"time\": round(end - start, 3)\n",
        "        }\n",
        "\n",
        "# ===== Run all configurations =====\n",
        "results = []\n",
        "\n",
        "# CPU/GPU: float32 only\n",
        "for n_steps in n_steps_list:\n",
        "    result = run_experiment(tf.float32, n_steps, \"CPU-float32\")\n",
        "    results.append(result)\n",
        "\n",
        "# TPU tests: float32 and bfloat16\n",
        "\n",
        "\n",
        "if tpu_available:\n",
        "    for n_steps in n_steps_list:\n",
        "        tf.keras.backend.clear_session()\n",
        "        with tpu_strategy.scope():\n",
        "            result = run_experiment(tf.bfloat16, n_steps, f\"TPU-{dtype.name}\")\n",
        "        results.append(result)\n",
        "        print(n_steps)\n",
        "\n",
        "# ===== Display Results =====\n",
        "df = pd.DataFrame(results)\n",
        "print(\"\\n📊 Benchmark Results:\")\n",
        "print(df)\n",
        "\n",
        "# ===== Optional: Plotting =====\n",
        "fig, ax = plt.subplots(1, 2, figsize=(14, 5))\n",
        "\n",
        "# Execution Time Plot\n",
        "for key, grp in df.groupby('label'):\n",
        "    ax[0].plot(grp['n_steps'], grp['time'], marker='o', label=key)\n",
        "ax[0].set_title(\"Execution Time vs. Time Steps\")\n",
        "ax[0].set_xlabel(\"Time Steps\")\n",
        "ax[0].set_ylabel(\"Time (s)\")\n",
        "ax[0].legend()\n",
        "ax[0].grid(True)\n",
        "\n",
        "# Option Price Plot\n",
        "for key, grp in df.groupby('label'):\n",
        "    ax[1].plot(grp['n_steps'], grp['price'], marker='o', label=key)\n",
        "ax[1].set_title(\"Estimated Price vs. Time Steps\")\n",
        "ax[1].set_xlabel(\"Time Steps\")\n",
        "ax[1].set_ylabel(\"Option Price\")\n",
        "ax[1].legend()\n",
        "ax[1].grid(True)\n",
        "\n",
        "plt.tight_layout()\n",
        "plt.show()"
      ]
    }
  ],
  "metadata": {
    "colab": {
      "provenance": []
    },
    "kernelspec": {
      "display_name": "base",
      "language": "python",
      "name": "python3"
    },
    "language_info": {
      "codemirror_mode": {
        "name": "ipython",
        "version": 3
      },
      "file_extension": ".py",
      "mimetype": "text/x-python",
      "name": "python",
      "nbconvert_exporter": "python",
      "pygments_lexer": "ipython3",
      "version": "3.12.4"
    }
  },
  "nbformat": 4,
  "nbformat_minor": 0
}
